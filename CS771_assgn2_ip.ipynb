{
  "nbformat": 4,
  "nbformat_minor": 0,
  "metadata": {
    "colab": {
      "provenance": [],
      "gpuType": "T4",
      "include_colab_link": true
    },
    "kernelspec": {
      "name": "python3",
      "display_name": "Python 3"
    },
    "language_info": {
      "name": "python"
    }
  },
  "cells": [
    {
      "cell_type": "markdown",
      "metadata": {
        "id": "view-in-github",
        "colab_type": "text"
      },
      "source": [
        "<a href=\"https://colab.research.google.com/github/kibergrad/Course_CS771/blob/main/CS771_assgn2_ip.ipynb\" target=\"_parent\"><img src=\"https://colab.research.google.com/assets/colab-badge.svg\" alt=\"Open In Colab\"/></a>"
      ]
    },
    {
      "cell_type": "code",
      "source": [
        "import time\n",
        "\n",
        "start = time.time()\n",
        "end = time.time()\n",
        "\n",
        "print(\"time taken = \",end-start)\n"
      ],
      "metadata": {
        "colab": {
          "base_uri": "https://localhost:8080/"
        },
        "id": "LQGvbDZtE4-_",
        "outputId": "15256a6f-57a8-431b-9df2-5227265e01ee"
      },
      "execution_count": null,
      "outputs": [
        {
          "output_type": "stream",
          "name": "stdout",
          "text": [
            "time taken =  4.315376281738281e-05\n"
          ]
        }
      ]
    },
    {
      "cell_type": "code",
      "execution_count": null,
      "metadata": {
        "colab": {
          "base_uri": "https://localhost:8080/"
        },
        "id": "iqWcY6Mv9neT",
        "outputId": "42ef3576-867b-462c-d84e-8fa96f854d76"
      },
      "outputs": [
        {
          "output_type": "stream",
          "name": "stdout",
          "text": [
            "EVEN\n",
            "time taken =  0.006886482238769531\n"
          ]
        }
      ],
      "source": [
        "import cv2\n",
        "import numpy as np\n",
        "from google.colab.patches import cv2_imshow\n",
        "import time\n",
        "\n",
        "start = time.time()\n",
        "# Input image path\n",
        "image_path = '/content/6.png'\n",
        "image = cv2.imread(image_path)\n",
        "\n",
        "gray_image = cv2.cvtColor(image, cv2.COLOR_BGR2GRAY)\n",
        "\n",
        "# Extract the background color from the corners of the image\n",
        "corner_size = 50\n",
        "corners = [\n",
        "    gray_image[:corner_size, :corner_size],  # Top-left corner\n",
        "    gray_image[:corner_size, -corner_size:],  # Top-right corner\n",
        "    gray_image[-corner_size:, :corner_size],  # Bottom-left corner\n",
        "    gray_image[-corner_size:, -corner_size:],  # Bottom-right corner\n",
        "]\n",
        "\n",
        "background_pixels = np.concatenate(corners)\n",
        "\n",
        "# Estimate the distribution of shade/color in the background pixels\n",
        "background_mean = np.mean(background_pixels)\n",
        "background_std = np.std(background_pixels)\n",
        "\n",
        "# Set a threshold based on the background distribution\n",
        "threshold = background_mean - 2 * background_std\n",
        "\n",
        "# Convert the grayscale image to binary using the threshold\n",
        "binary_image = cv2.threshold(gray_image, threshold, 255, cv2.THRESH_BINARY_INV)[1]\n",
        "\n",
        "# Apply erosion to thin out lines and potentially eliminate obfuscating lines\n",
        "kernel_size = 3  # Adjust this value based on the thickness of obfuscating lines\n",
        "eroded_image = cv2.erode(binary_image, np.ones((kernel_size, kernel_size), np.uint8))\n",
        "kernel_size = 2\n",
        "eroded_image = cv2.erode(eroded_image, np.ones((2, 2), np.uint8))\n",
        "\n",
        "# Apply dilation to increase the width of the contours\n",
        "dilated_image = cv2.dilate(eroded_image, np.ones((2, 2), np.uint8))\n",
        "height, width = dilated_image.shape[:2]\n",
        "part_width = width // (1 + 1 + 1 + 1.4)\n",
        "\n",
        "# Get the last part of the image\n",
        "last_part = dilated_image[:, int(-1.4 * part_width):]\n",
        "img = last_part\n",
        "\n",
        "\n",
        "\n",
        "features = []\n",
        "\n",
        "image = cv2.resize(img, (128, 128))\n",
        "# Extract features from the image\n",
        "# Example: Using Histogram of Oriented Gradients (HOG) with OpenCV\n",
        "hog = cv2.HOGDescriptor((128, 128), (16, 16), (8, 8), (8, 8), 9)\n",
        "hog_features = hog.compute(image)\n",
        "# Reshape the feature vector\n",
        "hog_features = hog_features.flatten()\n",
        "features.append(hog_features)\n",
        "X = np.array(features)\n",
        "\n",
        "\n",
        "\n",
        "\n",
        "import pickle\n",
        "\n",
        "with open('/content/final.pkl', 'rb') as file:\n",
        "    model1 = pickle.load(file)\n",
        "\n",
        "\n",
        "\n",
        "output = model1.predict(X)\n",
        "print(output[0])\n",
        "end = time.time()\n",
        "\n",
        "print(\"time taken = \",end-start)\n",
        "\n"
      ]
    },
    {
      "cell_type": "code",
      "source": [],
      "metadata": {
        "id": "vqdq52X0FGAR"
      },
      "execution_count": null,
      "outputs": []
    }
  ]
}